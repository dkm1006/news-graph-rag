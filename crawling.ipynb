{
 "cells": [
  {
   "cell_type": "markdown",
   "metadata": {},
   "source": [
    "# Enhancing RAG with Neo4j Knowledge Graph\n",
    "\n",
    "\n",
    "Import modules and instantiate connections and models"
   ]
  },
  {
   "cell_type": "code",
   "execution_count": 2,
   "metadata": {},
   "outputs": [
    {
     "name": "stderr",
     "output_type": "stream",
     "text": [
      "/home/djordje/.virtualenvs/bbuzz24/lib/python3.10/site-packages/tqdm/auto.py:21: TqdmWarning: IProgress not found. Please update jupyter and ipywidgets. See https://ipywidgets.readthedocs.io/en/stable/user_install.html\n",
      "  from .autonotebook import tqdm as notebook_tqdm\n"
     ]
    }
   ],
   "source": [
    "import fundus\n",
    "\n",
    "import config\n",
    "from graph import NewsGraphClient, URI\n",
    "from ner import EntityFinder"
   ]
  },
  {
   "cell_type": "code",
   "execution_count": 3,
   "metadata": {},
   "outputs": [
    {
     "name": "stdout",
     "output_type": "stream",
     "text": [
      "Fundus-Article:\n",
      "- Title: \"Keine Angst vor dem ersten Schultag: So finden Eltern einen sicheren [...]\"\n",
      "- Text:  \"Zu Fuß, mit dem Fahrrad, oder mit Bus und Bahn: Wir zeigen, wie Eltern einen\n",
      "          sicheren Schulweg für ihre Kinder finden.  Für hunderttausende [...]\"\n",
      "- URL:    https://www1.wdr.de/nachrichten/sicherer-schulweg-tipps-vor-schulstart100.html\n",
      "- From:   Westdeutscher Rundfunk (2024-08-03 06:00)\n",
      "Fundus-Article:\n",
      "- Title: \"Schulstart: Erstklässler in Mitteldeutschland feiern Einschulung\"\n",
      "- Text:  \"Für viele Kinder ist es einer der wichtigsten Tage des Lebens: die\n",
      "          Schuleinführung. Auch für die Eltern ist der Tag bedeutend, denn [...]\"\n",
      "- URL:    https://www.mdr.de/nachrichten/deutschland/gesellschaft/schulanfang-mitteldeutschland-einschulung-100.html\n",
      "- From:   Mitteldeutscher Rundfunk (MDR) (2024-08-03 12:54)\n"
     ]
    }
   ],
   "source": [
    "# Crawl news sites\n",
    "publishers = (fundus.PublisherCollection.de, fundus.PublisherCollection.uk)\n",
    "crawler = fundus.Crawler(*publishers)\n",
    "articles = list(crawler.crawl(max_articles=2))\n",
    "for article in articles:\n",
    "    print(article)"
   ]
  },
  {
   "cell_type": "markdown",
   "metadata": {},
   "source": [
    "## Perform some queries\n",
    "e.g. list a few sources"
   ]
  },
  {
   "cell_type": "code",
   "execution_count": 5,
   "metadata": {},
   "outputs": [
    {
     "name": "stdout",
     "output_type": "stream",
     "text": [
      "neo4j+s://dfa2b95c.databases.neo4j.io\n"
     ]
    }
   ],
   "source": [
    "import os\n",
    "print(os.getenv('DB_URL'))\n",
    "# import dotenv\n",
    "# dotenv.load_dotenv()\n",
    "db = NewsGraphClient()\n",
    "# records = db.query(\"MATCH (s:Source) RETURN s.name,  as source LIMIT $limit\", limit=10)\n",
    "# for record in records:\n",
    "#     print(record)"
   ]
  },
  {
   "cell_type": "markdown",
   "metadata": {},
   "source": [
    "## Perform Named Entity Recognition\n",
    "with GLiNER"
   ]
  },
  {
   "cell_type": "code",
   "execution_count": 6,
   "metadata": {},
   "outputs": [
    {
     "name": "stderr",
     "output_type": "stream",
     "text": [
      "/home/djordje/.virtualenvs/bbuzz24/lib/python3.10/site-packages/transformers/convert_slow_tokenizer.py:560: UserWarning: The sentencepiece tokenizer that you are converting to a fast tokenizer uses the byte fallback option which is not implemented in the fast tokenizers. In practice this means that the fast version of the tokenizer can produce unknown tokens whereas the sentencepiece version would have converted these unknown tokens into a sequence of byte tokens matching the original piece of text.\n",
      "  warnings.warn(\n",
      "/home/djordje/.virtualenvs/bbuzz24/lib/python3.10/site-packages/huggingface_hub/file_download.py:1132: FutureWarning: `resume_download` is deprecated and will be removed in version 1.0.0. Downloads always resume when possible. If you want to force a new download, use `force_download=True`.\n",
      "  warnings.warn(\n"
     ]
    },
    {
     "name": "stdout",
     "output_type": "stream",
     "text": [
      "Keine Angst vor dem ersten Schultag: So finden Eltern einen sicheren Schulweg für ihre Kinder mentions the following entities: person: Eltern |\n"
     ]
    },
    {
     "name": "stderr",
     "output_type": "stream",
     "text": [
      "/home/djordje/.virtualenvs/bbuzz24/lib/python3.10/site-packages/gliner/modules/data.py:93: UserWarning: Sentence of length 985 has been truncated to 384\n",
      "  warnings.warn(f\"Sentence of length {len(tokens)} has been truncated to {max_len}\")\n"
     ]
    },
    {
     "name": "stdout",
     "output_type": "stream",
     "text": [
      "The text also mentions the following entities: person: Eltern | location: Westen | person: Eltern | person: Eltern | organization: Landesverkehrswacht NRW | person: Präsident Klaus Voussem | person: Eltern | organization: ADAC | organization: ADAC | person: Eltern |\n",
      "Schulstart: Erstklässler in Mitteldeutschland feiern Einschulung mentions the following entities: person: Erstklässler | location: Mitteldeutschland |\n",
      "The text also mentions the following entities: location: Mitteldeutschland | location: Sachsen | location: Sachsen-Anhalt | location: Thüringen | location: Mitteldeutschland | location: Sachsen | location: Sachsen-Anhalt | location: Thüringen | location: Sachsen-Anhalt | organization: Bildungsministerium | organization: CDU | organization: SPD | organization: FDP | location: Sachsen | person: Kultusminister Christian Piwarz | location: Thüringen | person: Helmut Holter | organization: Linke |\n"
     ]
    }
   ],
   "source": [
    "entity_finder = EntityFinder(config.RELEVANT_LABELS)\n",
    "\n",
    "for article in articles:   \n",
    "    entities_in_headline = entity_finder.find(article.title)\n",
    "    print(article.title, 'mentions the following entities:', *(f\"{e.label}: {e.name} |\" for e in entities_in_headline))\n",
    "    entities_in_text = entity_finder.find(article.plaintext)\n",
    "    print('The text also mentions the following entities:', *(f\"{e.label}: {e.name} |\" for e in entities_in_text))"
   ]
  }
 ],
 "metadata": {
  "kernelspec": {
   "display_name": "buzz24",
   "language": "python",
   "name": "python3"
  },
  "language_info": {
   "codemirror_mode": {
    "name": "ipython",
    "version": 3
   },
   "file_extension": ".py",
   "mimetype": "text/x-python",
   "name": "python",
   "nbconvert_exporter": "python",
   "pygments_lexer": "ipython3",
   "version": "3.10.12"
  }
 },
 "nbformat": 4,
 "nbformat_minor": 2
}
