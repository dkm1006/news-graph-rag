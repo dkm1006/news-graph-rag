{
 "cells": [
  {
   "cell_type": "markdown",
   "metadata": {},
   "source": [
    "# Enhancing RAG with Neo4j Knowledge Graph\n",
    "\n",
    "\n",
    "Import modules and instantiate connections and models"
   ]
  },
  {
   "cell_type": "code",
   "execution_count": 2,
   "metadata": {},
   "outputs": [
    {
     "name": "stderr",
     "output_type": "stream",
     "text": [
      "/home/djordje/.virtualenvs/buzz24/lib/python3.10/site-packages/tqdm/auto.py:21: TqdmWarning: IProgress not found. Please update jupyter and ipywidgets. See https://ipywidgets.readthedocs.io/en/stable/user_install.html\n",
      "  from .autonotebook import tqdm as notebook_tqdm\n"
     ]
    }
   ],
   "source": [
    "import fundus\n",
    "\n",
    "import config\n",
    "from graph import NewsGraphClient\n",
    "from ner import EntityFinder"
   ]
  },
  {
   "cell_type": "code",
   "execution_count": 3,
   "metadata": {},
   "outputs": [
    {
     "name": "stdout",
     "output_type": "stream",
     "text": [
      "Fundus-Article:\n",
      "- Title: \"Diese Abgeordneten aus Mitteldeutschland ziehen ins Europaparlament ein\"\n",
      "- Text:  \"Kein Land stellt mehr Abgeordnete im Europaparlament als Deutschland. Insgesamt\n",
      "          96 Sitze entfallen auf deutsche Politiker. Zehn von ihnen sind [...]\"\n",
      "- URL:    https://www.mdr.de/nachrichten/deutschland/europaparlament-abgeordnete-mitteldeutschland-100.html\n",
      "- From:   Mitteldeutscher Rundfunk (MDR) (2024-06-10 17:20)\n",
      "Fundus-Article:\n",
      "- Title: \"Niederländer de Jong verpasst die EM\"\n",
      "- Text:  \"Einer ihrer bekanntesten Spieler wird den Niederlanden bei der\n",
      "          Europameisterschaft fehlen. Barcelona-Profi de Jong wird nach [...]\"\n",
      "- URL:    https://www.kicker.de/niederlaender-de-jong-verpasst-die-em-1031137/artikel#omrss\n",
      "- From:   Kicker (2024-06-10 23:47)\n"
     ]
    }
   ],
   "source": [
    "# Crawl news sites\n",
    "publishers = (fundus.PublisherCollection.de, fundus.PublisherCollection.uk)\n",
    "crawler = fundus.Crawler(*publishers)\n",
    "articles = list(crawler.crawl(max_articles=2))\n",
    "for article in articles:\n",
    "    print(article)"
   ]
  },
  {
   "cell_type": "markdown",
   "metadata": {},
   "source": [
    "## Perform some queries\n",
    "e.g. list a few sources"
   ]
  },
  {
   "cell_type": "code",
   "execution_count": 6,
   "metadata": {},
   "outputs": [
    {
     "name": "stdout",
     "output_type": "stream",
     "text": [
      "{'source': 'Junge Welt'}\n",
      "{'source': 'Stern'}\n",
      "{'source': 'Hamburger Abendblatt'}\n",
      "{'source': 'Westdeutscher Rundfunk'}\n",
      "{'source': 'Mitteldeutscher Rundfunk (MDR)'}\n",
      "{'source': 'Süddeutsche Zeitung'}\n",
      "{'source': 'Deutsche Welle'}\n",
      "{'source': 'Focus Online'}\n",
      "{'source': 'zdfHeute'}\n",
      "{'source': 'Münchner Merkur'}\n"
     ]
    }
   ],
   "source": [
    "db = NewsGraphClient()\n",
    "records = db.query(\"MATCH (s:Source) RETURN s.name,  as source LIMIT $limit\", limit=10)\n",
    "for record in records:\n",
    "    print(record)"
   ]
  },
  {
   "cell_type": "markdown",
   "metadata": {},
   "source": [
    "## Perform Named Entity Recognition\n",
    "with GLiNER"
   ]
  },
  {
   "cell_type": "code",
   "execution_count": 4,
   "metadata": {},
   "outputs": [
    {
     "name": "stderr",
     "output_type": "stream",
     "text": [
      "/home/djordje/.virtualenvs/buzz24/lib/python3.10/site-packages/transformers/convert_slow_tokenizer.py:560: UserWarning: The sentencepiece tokenizer that you are converting to a fast tokenizer uses the byte fallback option which is not implemented in the fast tokenizers. In practice this means that the fast version of the tokenizer can produce unknown tokens whereas the sentencepiece version would have converted these unknown tokens into a sequence of byte tokens matching the original piece of text.\n",
      "  warnings.warn(\n",
      "/home/djordje/.virtualenvs/buzz24/lib/python3.10/site-packages/huggingface_hub/file_download.py:1132: FutureWarning: `resume_download` is deprecated and will be removed in version 1.0.0. Downloads always resume when possible. If you want to force a new download, use `force_download=True`.\n",
      "  warnings.warn(\n"
     ]
    },
    {
     "name": "stdout",
     "output_type": "stream",
     "text": [
      "Diese Abgeordneten aus Mitteldeutschland ziehen ins Europaparlament ein mentions the following entities: person: Abgeordneten| location: Mitteldeutschland| organization: Europaparlament|\n"
     ]
    },
    {
     "name": "stderr",
     "output_type": "stream",
     "text": [
      "/home/djordje/.virtualenvs/buzz24/lib/python3.10/site-packages/gliner/modules/data.py:93: UserWarning: Sentence of length 522 has been truncated to 384\n",
      "  warnings.warn(f\"Sentence of length {len(tokens)} has been truncated to {max_len}\")\n"
     ]
    },
    {
     "name": "stdout",
     "output_type": "stream",
     "text": [
      "The text also mentions the following entities: organization: Europaparlament| location: Mitteldeutschland| location: Straßburg| location: Brüssel| organization: CDU| person: Oliver Schenk| organization: sächsische AfD| person: Siegbert Droese| organization: Europaparlament| person: Björn Höcke| person: Maximilian Krah| location: Brüssel| organization: Europaparlament| person: Carola Rackete| organization: sächsische Linke| location: Schleswig-Holstein| person: Anna Cavazzini| location: Brüssel| organization: Die Grünen| organization: Europaparlament| person: Matthias Ecke| organization: Europaparlament| person: Constanze Krehl| location: Sachsen-Anhalt| location: Sachsen-Anhalt| organization: Europaparlament| organization: CDU Sachsen-Anhalt| person: Alexandra Mehnert| location: Brüssel|\n",
      "Niederländer de Jong verpasst die EM mentions the following entities: person: Niederländer de Jong|\n",
      "The text also mentions the following entities: location: Niederlanden| location: Kanada| location: Island| person: Frenkie de Jong| organization: FC Barcelona| location: Deutschland| organization: KNVB| location: Island| organization: Real Madrid|\n"
     ]
    }
   ],
   "source": [
    "entity_finder = EntityFinder(config.RELEVANT_LABELS)\n",
    "\n",
    "for article in articles:   \n",
    "    entities_in_headline = entity_finder.find(article.title)\n",
    "    print(article.title, 'mentions the following entities:', *(f\"{e.label}: {e.name} |\" for e in entities_in_headline))\n",
    "    entities_in_text = entity_finder.find(article.plaintext)\n",
    "    print('The text also mentions the following entities:', *(f\"{e.label}: {e.name} |\" for e in entities_in_text))"
   ]
  }
 ],
 "metadata": {
  "kernelspec": {
   "display_name": "buzz24",
   "language": "python",
   "name": "python3"
  },
  "language_info": {
   "codemirror_mode": {
    "name": "ipython",
    "version": 3
   },
   "file_extension": ".py",
   "mimetype": "text/x-python",
   "name": "python",
   "nbconvert_exporter": "python",
   "pygments_lexer": "ipython3",
   "version": "3.10.12"
  }
 },
 "nbformat": 4,
 "nbformat_minor": 2
}
