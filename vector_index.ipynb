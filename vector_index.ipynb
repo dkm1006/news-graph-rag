{
 "cells": [
  {
   "cell_type": "markdown",
   "metadata": {},
   "source": [
    "# Enhancing RAG with Neo4j Knowledge Graph\n",
    "\n",
    "\n",
    "Import modules and instantiate connections and models"
   ]
  },
  {
   "cell_type": "code",
   "execution_count": 21,
   "metadata": {},
   "outputs": [],
   "source": [
    "import snowflake.connector\n",
    "from langchain.vectorstores.neo4j_vector import Neo4jVector\n",
    "from langchain.embeddings.huggingface import HuggingFaceEmbeddings\n",
    "from langchain_core.output_parsers import StrOutputParser\n",
    "from langchain_core.prompts import ChatPromptTemplate\n",
    "\n",
    "import config\n",
    "import graph\n",
    "\n",
    "\n",
    "embedding_model = HuggingFaceEmbeddings(\n",
    "    model_name=config.EMBEDDING_MODEL_CHECKPOINT,\n",
    "    model_kwargs=dict(trust_remote_code=True, revision=config.EMBEDDING_MODEL_HASH)\n",
    ")\n",
    "\n",
    "vector_index = Neo4jVector.from_existing_index(\n",
    "    embedding_model,\n",
    "    url=graph.URI,\n",
    "    username=graph.USERNAME,\n",
    "    password=graph.PASSWORD,\n",
    "    index_name='chunkEmbedding',\n",
    "    keyword_index_name='chunkText',\n",
    "    search_type='vector'\n",
    ")"
   ]
  },
  {
   "cell_type": "code",
   "execution_count": 22,
   "metadata": {},
   "outputs": [
    {
     "name": "stdout",
     "output_type": "stream",
     "text": [
      "page_content='Will die AfD in einem hessischen Ausschuss zu einem Rundumschlag gegen die gesamte deutsche Corona-Politik ausholen? Im Streit um die Verfassungsmäßigkeit ihrer Initiative hat sie alle drei Gutachter gegen sich, die der Landtag beauftragt hat.' metadata={'position': 0, 'uid': 'Chunk:IizILhutSDSy', 'category': 'summary', 'section': 0}\n",
      "page_content='Freude bei der AfD: Sie landet bei der Europawahl vor SPD und Grünen. Auf der Wahlparty heißt es, man wolle das EU-Parlament „eindampfen“. Aber in welcher Fraktion eigentlich?' metadata={'position': 0, 'uid': 'Chunk:Qy0YywgPSX--', 'category': 'summary', 'section': 0}\n",
      "page_content='Die AfD wird bei der Europawahl zweitstärkste Kraft in Deutschland, in Ostdeutschland liegt sie sogar vorn. Doch ungeachtet dieses Erfolgs steuert sie im Europaparlament in eine ungewisse Zukunft: Die Fraktionslosigkeit droht. Damit gingen mehrere Nachteile einher.' metadata={'position': 0, 'uid': 'Chunk:4F6Y1MUmQ6ax', 'category': 'summary', 'section': 0}\n",
      "page_content='Bei der Europawahl holt die AfD 16 Prozent bei den 16-24-Jährigen. Ein Grund: Radikalisierung bei TikTok. Junge sind dort sich selbst überlassen.' metadata={'position': 0, 'uid': 'Chunk:nnBDr-sURmmJ', 'category': 'summary', 'section': 0}\n",
      "page_content='Bei der Europawahl holt die AfD 16 Prozent bei den 16-24-Jährigen. Ein Grund: Radikalisierung bei TikTok. Junge sind dort sich selbst überlassen.' metadata={'position': 0, 'uid': 'Chunk:0OnypKFLSRe2', 'category': 'summary', 'section': 0}\n"
     ]
    }
   ],
   "source": [
    "question = 'What does the AfD want to do?'\n",
    "# filter = {'category': {\"$eq\": \"summary\"}}\n",
    "retrieved_docs = vector_index.similarity_search(question, k=5, filter=None)\n",
    "for doc in retrieved_docs:\n",
    "    print(doc)"
   ]
  },
  {
   "cell_type": "code",
   "execution_count": 23,
   "metadata": {},
   "outputs": [
    {
     "name": "stdout",
     "output_type": "stream",
     "text": [
      "page_content='Die AfD wolle sich in Brüssel darauf konzentrieren, das EU-Parlament „einzudampfen“, vor allem, was Mitarbeiter angehe. Denn diese würden von deutschen Steuerzahlern finanziert, so Chrupalla. Außerdem sollten Entscheidungen wieder zurück auf die nationale Ebene verlegt werden. Alice Weidel erklärt sich das gute Ergebnis auch mit wachsender Kritik der Bevölkerung an Europa.' metadata={'position': 8, 'uid': 'Chunk:-FyuRf0HT3a3', 'category': 'paragraph', 'section': 2}\n",
      "page_content='\"That\\'s what inspired me to want to make change. I want to do something about it.\" He is best known for starring on Gogglebox alongside his sister Amy, mum Nikki and dad Jonathan and he looks totally grown up compared to his days filming the show.' metadata={'position': 9, 'uid': 'Chunk:6hpXGzxMTW6H', 'category': 'paragraph', 'section': 1}\n",
      "page_content='19.00 Uhr: CSU will AfD mit AfD-Politik bekämpfen' metadata={'position': 147, 'uid': 'Chunk:pRc5lKPaTHOp', 'category': 'headline', 'section': 44}\n",
      "page_content='Die AfD verfolgt die Idee einer nationalen Währung und möchte die Nutzung des Euros zu beenden.' metadata={'position': 14, 'uid': 'Chunk:g1pXXhTxThiK', 'category': 'paragraph', 'section': 6}\n",
      "page_content='Die Erfolge der AfD sind Teil eines europaweiten Rechtsrucks. Der muss die gewählten Europaabgeordneten der demokratischen Mitte wachrütteln. Sie sollten das Taktieren um die Macht nicht wieder übertreiben und statt die anderen aus ihrer Mitte vorzuführen, schnell gemeinsame Leitplanken finden, Personalpakete schnüren und zeigen, dass die demokratische Mitte doch die Kompetenz hat, Probleme zu lösen.' metadata={'position': 7, 'uid': 'Chunk:6P24arvOSgOC', 'category': 'paragraph', 'section': 1}\n"
     ]
    }
   ],
   "source": [
    "vector_index = Neo4jVector.from_existing_index(\n",
    "    embedding_model,\n",
    "    url=graph.URI,\n",
    "    username=graph.USERNAME,\n",
    "    password=graph.PASSWORD,\n",
    "    index_name='chunkEmbedding',\n",
    "    keyword_index_name='chunkText',\n",
    "    search_type='hybrid'\n",
    ")\n",
    "retrieved_docs = vector_index.similarity_search(question, k=5, filter=None)\n",
    "for doc in retrieved_docs:\n",
    "    print(doc)"
   ]
  },
  {
   "cell_type": "code",
   "execution_count": 31,
   "metadata": {},
   "outputs": [
    {
     "name": "stdout",
     "output_type": "stream",
     "text": [
      "WITH node as chunk, score MATCH (chunk)<-[:CONTAINS]-(a)<-[:PUBLISHED]-(s) WITH chunk, score, a, s RETURN 'Title: ' + a.title + '\\nText: ' + chunk.text as text, score, chunk{.position, .section, .category, date: a.publishing_date, url:a.url, source: s.name} as metadata\n",
      "page_content='Title: Die AfD jubelt in Berlin über ihren Wahlerfolg – doch wo ist Maximilian Krah?\\nText: Die AfD wolle sich in Brüssel darauf konzentrieren, das EU-Parlament „einzudampfen“, vor allem, was Mitarbeiter angehe. Denn diese würden von deutschen Steuerzahlern finanziert, so Chrupalla. Außerdem sollten Entscheidungen wieder zurück auf die nationale Ebene verlegt werden. Alice Weidel erklärt sich das gute Ergebnis auch mit wachsender Kritik der Bevölkerung an Europa.' metadata={'position': 8, 'category': 'paragraph', 'source': 'Berliner Zeitung', 'date': neo4j.time.Date(2024, 6, 9), 'section': 2, 'url': 'https://www.berliner-zeitung.de/politik-gesellschaft/die-afd-jubelt-in-berlin-ueber-ihren-wahlerfolg-doch-wo-ist-maximilian-krah-li.2223187'}\n",
      "page_content='Title: +++ Live-Ticker zur Europawahl 2024 +++: Europa-Sterne mit braunen Flecken\\nText: 19.00 Uhr: CSU will AfD mit AfD-Politik bekämpfen' metadata={'position': 147, 'category': 'headline', 'source': 'Die Tageszeitung (taz)', 'date': neo4j.time.Date(2024, 6, 9), 'section': 44, 'url': 'https://taz.de/-Live-Ticker-zur-Europawahl-2024-/!6015664/'}\n",
      "page_content='Title: Parteien der Europawahl 2024: Wen kann man in Deutschland wählen?\\nText: Die AfD verfolgt die Idee einer nationalen Währung und möchte die Nutzung des Euros zu beenden.' metadata={'position': 14, 'category': 'paragraph', 'source': 'Ruhr Nachrichten', 'date': neo4j.time.Date(2024, 6, 9), 'section': 6, 'url': 'https://www.ruhrnachrichten.de/service/parteien-europawahl-2024-deutschland-spd-cdu-csu-afd-gruene-linke-fdp-bsw-w880806-2001210423/'}\n",
      "page_content='Title: Ergebnis der Europawahl: Ein Tiefschlag für die Ampel\\nText: Die Erfolge der AfD sind Teil eines europaweiten Rechtsrucks. Der muss die gewählten Europaabgeordneten der demokratischen Mitte wachrütteln. Sie sollten das Taktieren um die Macht nicht wieder übertreiben und statt die anderen aus ihrer Mitte vorzuführen, schnell gemeinsame Leitplanken finden, Personalpakete schnüren und zeigen, dass die demokratische Mitte doch die Kompetenz hat, Probleme zu lösen.' metadata={'position': 7, 'category': 'paragraph', 'source': 'Rheinische Post', 'date': neo4j.time.Date(2024, 6, 9), 'section': 1, 'url': 'https://rp-online.de/politik/analyse-und-meinung/europawahlergebnis-ist-ein-tiefschlag-fuer-die-ampel_aid-114173729'}\n",
      "page_content='Title: Trotz Skandalen triumphiert die AfD – mit Protestwahl hat das nichts zu tun\\nText: Die Botschaft des AfD-Resultats lautet: Wer Deutschland, ein konservatives Land, verändern will, muss deutlich besser und deutlich volksnäher erklären, was er vorhat. Den Deutschen darf man eben nicht mit der Tür ins Haus fallen.' metadata={'position': 17, 'category': 'paragraph', 'source': 'Focus Online', 'date': neo4j.time.Date(2024, 6, 9), 'section': 4, 'url': 'https://www.focus.de/politik/ausland/europawahl/analyse-von-ulrich-reitz-trotz-skandalen-triumphiert-die-afd-mit-protestwahl-hat-das-nichts-zu-tun_id_260020743.html'}\n"
     ]
    }
   ],
   "source": [
    "retrieval_query=(\n",
    "    \"WITH node as chunk, score \"\n",
    "    \"MATCH (chunk)<-[:CONTAINS]-(a)<-[:PUBLISHED]-(s) \"\n",
    "    \"WITH chunk, score, a, s \"\n",
    "    \"RETURN 'Title: ' + a.title + '\\\\nText: ' + chunk.text as text, score, \"\n",
    "    \"chunk{.position, .section, .category, date: a.publishing_date, url:a.url, source: s.name} as metadata\"\n",
    ")\n",
    "print(retrieval_query)\n",
    "vector_index = Neo4jVector.from_existing_index(\n",
    "    embedding_model,\n",
    "    url=graph.URI,\n",
    "    username=graph.USERNAME,\n",
    "    password=graph.PASSWORD,\n",
    "    index_name='chunkEmbedding',\n",
    "    keyword_index_name='chunkText',\n",
    "    retrieval_query=retrieval_query\n",
    ")\n",
    "retrieved_docs = vector_index.similarity_search(question, k=5, filter=None)\n",
    "for doc in retrieved_docs:\n",
    "    print(doc)"
   ]
  },
  {
   "cell_type": "code",
   "execution_count": 32,
   "metadata": {},
   "outputs": [],
   "source": [
    "import snowflake.connector\n",
    "from langchain.chains import RetrievalQA\n",
    "\n",
    "from llm import Cortex\n",
    "\n",
    "snowflake_connection = snowflake.connector.connect(**config.SNOWFLAKE_CONNECTION_PARAMS)\n",
    "model = Cortex(connection=snowflake_connection, model=config.CHAT_MODEL)\n",
    "\n",
    "vector_qa = RetrievalQA.from_chain_type(\n",
    "    llm=model,\n",
    "    chain_type='stuff',\n",
    "    retriever=vector_index.as_retriever()\n",
    ")"
   ]
  },
  {
   "cell_type": "code",
   "execution_count": 33,
   "metadata": {},
   "outputs": [
    {
     "data": {
      "text/plain": [
       "' The AfD wants to focus on draining the EU Parliament, especially concerning its employees, as they are financed by German taxpayers, according to Chrupalla. They also aim to move decision-making back to the national level. Additionally, the AfD advocates for a national currency and wishes to end the use of the Euro.'"
      ]
     },
     "execution_count": 33,
     "metadata": {},
     "output_type": "execute_result"
    }
   ],
   "source": [
    "vector_qa.run(question)"
   ]
  },
  {
   "cell_type": "markdown",
   "metadata": {},
   "source": [
    "## Generate a Cypher query"
   ]
  },
  {
   "cell_type": "code",
   "execution_count": 12,
   "metadata": {},
   "outputs": [],
   "source": [
    "from langchain.chains import GraphCypherQAChain\n",
    "\n",
    "db = graph.NewsGraphClient()\n",
    "\n",
    "cypher_chain = GraphCypherQAChain.from_llm(\n",
    "    cypher_llm = model,\n",
    "    qa_llm = model,\n",
    "    graph=db.graph,\n",
    "    verbose=True\n",
    ")\n"
   ]
  },
  {
   "cell_type": "code",
   "execution_count": 13,
   "metadata": {},
   "outputs": [
    {
     "name": "stdout",
     "output_type": "stream",
     "text": [
      "\n",
      "\n",
      "\u001b[1m> Entering new GraphCypherQAChain chain...\u001b[0m\n",
      "Generated Cypher:\n",
      "\u001b[32;1m\u001b[1;3m MATCH (p:Person {name: \"Ursula von der Leyen\"})-[:AUTHORED]->(a:Article) RETURN a.title, a.publishing_date, a.url LIMIT 10\u001b[0m\n",
      "Full Context:\n",
      "\u001b[32;1m\u001b[1;3m[]\u001b[0m\n",
      "\n",
      "\u001b[1m> Finished chain.\u001b[0m\n"
     ]
    },
    {
     "data": {
      "text/plain": [
       "\" I don't know the answer based on the provided information.\""
      ]
     },
     "execution_count": 13,
     "metadata": {},
     "output_type": "execute_result"
    }
   ],
   "source": [
    "cypher_chain.run(question)"
   ]
  }
 ],
 "metadata": {
  "kernelspec": {
   "display_name": "buzz24",
   "language": "python",
   "name": "python3"
  },
  "language_info": {
   "codemirror_mode": {
    "name": "ipython",
    "version": 3
   },
   "file_extension": ".py",
   "mimetype": "text/x-python",
   "name": "python",
   "nbconvert_exporter": "python",
   "pygments_lexer": "ipython3",
   "version": "3.10.12"
  }
 },
 "nbformat": 4,
 "nbformat_minor": 2
}
