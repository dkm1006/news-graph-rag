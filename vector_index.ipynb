{
 "cells": [
  {
   "cell_type": "markdown",
   "metadata": {},
   "source": [
    "# Enhancing RAG with Neo4j Knowledge Graph\n",
    "\n",
    "\n",
    "Import modules and instantiate connections and models"
   ]
  },
  {
   "cell_type": "code",
   "execution_count": 2,
   "metadata": {},
   "outputs": [],
   "source": [
    "import snowflake.connector\n",
    "from langchain.vectorstores.neo4j_vector import Neo4jVector\n",
    "from langchain.embeddings.huggingface import HuggingFaceEmbeddings\n",
    "from langchain_core.output_parsers import StrOutputParser\n",
    "from langchain_core.prompts import ChatPromptTemplate\n",
    "\n",
    "import config\n",
    "import graph\n",
    "\n",
    "\n",
    "embedding_model = HuggingFaceEmbeddings(\n",
    "    model_name=config.EMBEDDING_MODEL_CHECKPOINT,\n",
    "    model_kwargs=dict(trust_remote_code=True, revision=config.EMBEDDING_MODEL_HASH)\n",
    ")\n",
    "\n",
    "vector_index = Neo4jVector.from_existing_index(\n",
    "    embedding_model,\n",
    "    url=graph.URI,\n",
    "    username=graph.USERNAME,\n",
    "    password=graph.PASSWORD,\n",
    "    index_name='chunkEmbedding',\n",
    "    keyword_index_name='chunkText',\n",
    "    search_type='vector'\n",
    ")"
   ]
  },
  {
   "cell_type": "code",
   "execution_count": 4,
   "metadata": {},
   "outputs": [
    {
     "name": "stdout",
     "output_type": "stream",
     "text": [
      "page_content='FDP-Fraktionschef Christian Dürr pocht dagegen auf Sparsamkeit etwa bei der Entwicklungshilfe. „Die Haltung der FDP hat sich nicht geändert: Wir müssen richtig priorisieren, etwa bei Verteidigung, Bildung und Infrastruktur“, sagte er den Funke-Zeitungen.' metadata={'position': 26, 'uid': 'Chunk:5OsLGWEtSd6M', 'category': 'paragraph', 'section': 6}\n",
      "page_content='FDP-Generalsekretär Bijan Djir-Sarai nahm Lindner in Schutz. Deutschland brauche einen verfassungskonformen Haushalt, sagte er der Deutschen Presse-Agentur. Dass Lindner einzelne Vorhaben einer unabhängigen Prüfung unterzogen habe, sei deshalb vollkommen richtig.' metadata={'position': 13, 'uid': 'Chunk:XNmTCGfaTGWz', 'category': 'paragraph', 'section': 3}\n",
      "page_content='Auf Kritik vor allem der SPD erwiderte Lindner am Freitagabend bei einem Wahlkampftermin in Potsdam: „Ich bin erstaunt, denn auch Sozialdemokraten in Partei und Bundestag wissen ja, dass es drei Prüfaufträge gab und keine politische Verabredung.“ Die Prüfaufträge seien Vorschläge des Kanzleramts gewesen - „die sind verfassungsrechtlich beziehungsweise auch ökonomisch nicht überzeugend, teilweise sogar riskant“.' metadata={'position': 8, 'uid': 'Chunk:yqrWPHuAQ9iC', 'category': 'paragraph', 'section': 2}\n",
      "page_content='„An einem erneuten Aussetzen der Schuldenbremse und ihrer grundlegenden Reform führt kein Weg vorbei“, sagte DGB-Vorstandsmitglied Stefan Körzell den Zeitungen der Funke-Mediengruppe. „Das sollte sich endlich auch der Bundesfinanzminister eingestehen.“ Lindner und seine FDP lehnen ein Aussetzen der Schuldenbremse strikt ab.' metadata={'position': 22, 'uid': 'Chunk:nUHceQs3RDyQ', 'category': 'paragraph', 'section': 5}\n",
      "page_content='Auch die Ampel-Koalition verabredete im Koalitionsvertrag [PDF], das Thema endlich anzugehen und „Rechtsklarheit für Arbeitgeber sowie Beschäftigte zu erreichen und die Persönlichkeitsrechte effektiv zu schützen“. Über ein Eckpunkte-Papier aus den gemeinsam zuständigen Ministerien für Inneres und Arbeit kam das Vorhaben bisher nicht heraus. Ein Gesetzentwurf soll zwar fertig sein, doch laut Tagesspiegel Background blockiert die FDP das Vorhaben.' metadata={'position': 10, 'uid': 'Chunk:jzkx5o7VR1-m', 'category': 'paragraph', 'section': 3}\n"
     ]
    }
   ],
   "source": [
    "question = 'What does the FDP want to do?'\n",
    "# filter = {'category': {\"$eq\": \"summary\"}}\n",
    "retrieved_docs = vector_index.similarity_search(question, k=5, filter=None)\n",
    "for doc in retrieved_docs:\n",
    "    print(doc)"
   ]
  },
  {
   "cell_type": "code",
   "execution_count": 5,
   "metadata": {},
   "outputs": [
    {
     "name": "stdout",
     "output_type": "stream",
     "text": [
      "page_content='It is no use appealing to the better nature of any of these figures, however. It is what they do. The prime minister is right to demand more social responsibility from the tech companies, just as he is right to want the full force of the law to be used to keep the peace and protect the police and, at the moment, Muslim people from harm.' metadata={'position': 5, 'uid': 'Chunk:wOCntvk5TOem', 'category': 'paragraph', 'section': 1}\n",
      "page_content='FDP-Fraktionschef Christian Dürr pocht dagegen auf Sparsamkeit etwa bei der Entwicklungshilfe. „Die Haltung der FDP hat sich nicht geändert: Wir müssen richtig priorisieren, etwa bei Verteidigung, Bildung und Infrastruktur“, sagte er den Funke-Zeitungen.' metadata={'position': 26, 'uid': 'Chunk:5OsLGWEtSd6M', 'category': 'paragraph', 'section': 6}\n",
      "page_content=\"'I know he wants to play important moments, yeah. But the other ones [do] too. 18, 19 players as well want to play the big games.\" metadata={'position': 8, 'uid': 'Chunk:RFWH6GaqSNG1', 'category': 'paragraph', 'section': 1}\n",
      "page_content='FDP-Generalsekretär Bijan Djir-Sarai nahm Lindner in Schutz. Deutschland brauche einen verfassungskonformen Haushalt, sagte er der Deutschen Presse-Agentur. Dass Lindner einzelne Vorhaben einer unabhängigen Prüfung unterzogen habe, sei deshalb vollkommen richtig.' metadata={'position': 13, 'uid': 'Chunk:XNmTCGfaTGWz', 'category': 'paragraph', 'section': 3}\n",
      "page_content='“What we have seen from the Russian side and in particular from IBA, whose recognition we had to withdraw for many reasons, they have undertaken way before these Games with a defamation campaign against France, against the Games, against the IOC, and they have made a number of comments in this respect which I do not want to repeat,” Bach said.' metadata={'position': 10, 'uid': 'Chunk:bURY3QmxTWmt', 'category': 'paragraph', 'section': 2}\n"
     ]
    }
   ],
   "source": [
    "vector_index = Neo4jVector.from_existing_index(\n",
    "    embedding_model,\n",
    "    url=graph.URI,\n",
    "    username=graph.USERNAME,\n",
    "    password=graph.PASSWORD,\n",
    "    index_name='chunkEmbedding',\n",
    "    keyword_index_name='chunkText',\n",
    "    search_type='hybrid'\n",
    ")\n",
    "retrieved_docs = vector_index.similarity_search(question, k=5, filter=None)\n",
    "for doc in retrieved_docs:\n",
    "    print(doc)"
   ]
  },
  {
   "cell_type": "code",
   "execution_count": 6,
   "metadata": {},
   "outputs": [
    {
     "name": "stdout",
     "output_type": "stream",
     "text": [
      "WITH node as chunk, score MATCH (chunk)<-[:CONTAINS]-(a)<-[:PUBLISHED]-(s) WITH chunk, score, a, s RETURN 'Title: ' + a.title + '\\nText: ' + chunk.text as text, score, chunk{.position, .section, .category, date: a.publishing_date, url:a.url, source: s.name} as metadata\n",
      "page_content='Title: Ampel im Haushaltsstreit massiv in der Kritik: „Kann nicht seriös regieren“\\nText: FDP-Fraktionschef Christian Dürr pocht dagegen auf Sparsamkeit etwa bei der Entwicklungshilfe. „Die Haltung der FDP hat sich nicht geändert: Wir müssen richtig priorisieren, etwa bei Verteidigung, Bildung und Infrastruktur“, sagte er den Funke-Zeitungen.' metadata={'position': 26, 'category': 'paragraph', 'source': 'Focus Online', 'date': neo4j.time.DateTime(2024, 8, 3, 12, 50, 8, 0, tzinfo=<UTC>), 'section': 6, 'url': 'https://www.focus.de/politik/deutschland/wegen-haushaltsstreit-kann-nicht-serioes-regieren-so-hart-steht-die-ampel-derzeit-in-der-kritik_id_260194099.html'}\n",
      "page_content='Title: Ampel im Haushaltsstreit massiv in der Kritik: „Kann nicht seriös regieren“\\nText: FDP-Generalsekretär Bijan Djir-Sarai nahm Lindner in Schutz. Deutschland brauche einen verfassungskonformen Haushalt, sagte er der Deutschen Presse-Agentur. Dass Lindner einzelne Vorhaben einer unabhängigen Prüfung unterzogen habe, sei deshalb vollkommen richtig.' metadata={'position': 13, 'category': 'paragraph', 'source': 'Focus Online', 'date': neo4j.time.DateTime(2024, 8, 3, 12, 50, 8, 0, tzinfo=<UTC>), 'section': 3, 'url': 'https://www.focus.de/politik/deutschland/wegen-haushaltsstreit-kann-nicht-serioes-regieren-so-hart-steht-die-ampel-derzeit-in-der-kritik_id_260194099.html'}\n",
      "page_content='Title: Ampel im Haushaltsstreit massiv in der Kritik: „Kann nicht seriös regieren“\\nText: Auf Kritik vor allem der SPD erwiderte Lindner am Freitagabend bei einem Wahlkampftermin in Potsdam: „Ich bin erstaunt, denn auch Sozialdemokraten in Partei und Bundestag wissen ja, dass es drei Prüfaufträge gab und keine politische Verabredung.“ Die Prüfaufträge seien Vorschläge des Kanzleramts gewesen - „die sind verfassungsrechtlich beziehungsweise auch ökonomisch nicht überzeugend, teilweise sogar riskant“.' metadata={'position': 8, 'category': 'paragraph', 'source': 'Focus Online', 'date': neo4j.time.DateTime(2024, 8, 3, 12, 50, 8, 0, tzinfo=<UTC>), 'section': 2, 'url': 'https://www.focus.de/politik/deutschland/wegen-haushaltsstreit-kann-nicht-serioes-regieren-so-hart-steht-die-ampel-derzeit-in-der-kritik_id_260194099.html'}\n",
      "page_content='Title: Ampel im Haushaltsstreit massiv in der Kritik: „Kann nicht seriös regieren“\\nText: „An einem erneuten Aussetzen der Schuldenbremse und ihrer grundlegenden Reform führt kein Weg vorbei“, sagte DGB-Vorstandsmitglied Stefan Körzell den Zeitungen der Funke-Mediengruppe. „Das sollte sich endlich auch der Bundesfinanzminister eingestehen.“ Lindner und seine FDP lehnen ein Aussetzen der Schuldenbremse strikt ab.' metadata={'position': 22, 'category': 'paragraph', 'source': 'Focus Online', 'date': neo4j.time.DateTime(2024, 8, 3, 12, 50, 8, 0, tzinfo=<UTC>), 'section': 5, 'url': 'https://www.focus.de/politik/deutschland/wegen-haushaltsstreit-kann-nicht-serioes-regieren-so-hart-steht-die-ampel-derzeit-in-der-kritik_id_260194099.html'}\n",
      "page_content='Title: Beschäftigtendatenschutz: KI als Katalysator für Überwachung am Arbeitsplatz\\nText: Auch die Ampel-Koalition verabredete im Koalitionsvertrag [PDF], das Thema endlich anzugehen und „Rechtsklarheit für Arbeitgeber sowie Beschäftigte zu erreichen und die Persönlichkeitsrechte effektiv zu schützen“. Über ein Eckpunkte-Papier aus den gemeinsam zuständigen Ministerien für Inneres und Arbeit kam das Vorhaben bisher nicht heraus. Ein Gesetzentwurf soll zwar fertig sein, doch laut Tagesspiegel Background blockiert die FDP das Vorhaben.' metadata={'position': 10, 'category': 'paragraph', 'source': 'netzpolitik.org', 'date': neo4j.time.DateTime(2024, 8, 2, 12, 44, 2, 0, tzinfo=pytz.FixedOffset(120)), 'section': 3, 'url': 'https://netzpolitik.org/2024/beschaeftigtendatenschutz-ki-als-katalysator-fuer-ueberwachung-am-arbeitsplatz/'}\n"
     ]
    }
   ],
   "source": [
    "retrieval_query=(\n",
    "    \"WITH node as chunk, score \"\n",
    "    \"MATCH (chunk)<-[:CONTAINS]-(a)<-[:PUBLISHED]-(s) \"\n",
    "    \"WITH chunk, score, a, s \"\n",
    "    \"RETURN 'Title: ' + a.title + '\\\\nText: ' + chunk.text as text, score, \"\n",
    "    \"chunk{.position, .section, .category, date: a.publishing_date, url:a.url, source: s.name} as metadata\"\n",
    ")\n",
    "print(retrieval_query)\n",
    "vector_index = Neo4jVector.from_existing_index(\n",
    "    embedding_model,\n",
    "    url=graph.URI,\n",
    "    username=graph.USERNAME,\n",
    "    password=graph.PASSWORD,\n",
    "    index_name='chunkEmbedding',\n",
    "    keyword_index_name='chunkText',\n",
    "    retrieval_query=retrieval_query\n",
    ")\n",
    "retrieved_docs = vector_index.similarity_search(question, k=5, filter=None)\n",
    "for doc in retrieved_docs:\n",
    "    print(doc)"
   ]
  },
  {
   "cell_type": "code",
   "execution_count": 7,
   "metadata": {},
   "outputs": [],
   "source": [
    "import snowflake.connector\n",
    "from langchain.chains import RetrievalQA\n",
    "\n",
    "from llm import Cortex\n",
    "\n",
    "snowflake_connection = snowflake.connector.connect(**config.SNOWFLAKE_CONNECTION_PARAMS)\n",
    "model = Cortex(connection=snowflake_connection, model=config.CHAT_MODEL)\n",
    "\n",
    "vector_qa = RetrievalQA.from_chain_type(\n",
    "    llm=model,\n",
    "    chain_type='stuff',\n",
    "    retriever=vector_index.as_retriever()\n",
    ")"
   ]
  },
  {
   "cell_type": "code",
   "execution_count": 8,
   "metadata": {},
   "outputs": [
    {
     "name": "stderr",
     "output_type": "stream",
     "text": [
      "/home/djordje/.virtualenvs/bbuzz24/lib/python3.10/site-packages/langchain_core/_api/deprecation.py:119: LangChainDeprecationWarning: The method `Chain.run` was deprecated in langchain 0.1.0 and will be removed in 0.3.0. Use invoke instead.\n",
      "  warn_deprecated(\n",
      "Complete() is experimental since 1.0.12. Do not use it in production. \n"
     ]
    },
    {
     "data": {
      "text/plain": [
       "' The FDP wants to prioritize spending on areas such as defense, education, and infrastructure, and maintain a constitutional and economically sound budget. They reject the idea of suspending the debt brake and its fundamental reform.'"
      ]
     },
     "execution_count": 8,
     "metadata": {},
     "output_type": "execute_result"
    }
   ],
   "source": [
    "vector_qa.run(question)"
   ]
  },
  {
   "cell_type": "markdown",
   "metadata": {},
   "source": [
    "## Generate a Cypher query"
   ]
  },
  {
   "cell_type": "code",
   "execution_count": 11,
   "metadata": {},
   "outputs": [],
   "source": [
    "from langchain.chains import GraphCypherQAChain\n",
    "\n",
    "db = graph.NewsGraphClient()\n",
    "\n",
    "cypher_chain = GraphCypherQAChain.from_llm(\n",
    "    cypher_llm = model,\n",
    "    qa_llm = model,\n",
    "    graph=db.graph,\n",
    "    verbose=True\n",
    ")\n"
   ]
  },
  {
   "cell_type": "code",
   "execution_count": 12,
   "metadata": {},
   "outputs": [
    {
     "name": "stdout",
     "output_type": "stream",
     "text": [
      "\n",
      "\n",
      "\u001b[1m> Entering new GraphCypherQAChain chain...\u001b[0m\n",
      "Generated Cypher:\n",
      "\u001b[32;1m\u001b[1;3m MATCH (fdp:Organization)-[:MENTIONS]->(p:Person)\n",
      "WHERE fdp.name = 'FDP'\n",
      "RETURN p.name AS person_name, fdp.name AS organization_name\u001b[0m\n",
      "Full Context:\n",
      "\u001b[32;1m\u001b[1;3m[]\u001b[0m\n",
      "\n",
      "\u001b[1m> Finished chain.\u001b[0m\n"
     ]
    },
    {
     "data": {
      "text/plain": [
       "\" I don't know the answer based on the provided information.\""
      ]
     },
     "execution_count": 12,
     "metadata": {},
     "output_type": "execute_result"
    }
   ],
   "source": [
    "cypher_chain.run(question)"
   ]
  }
 ],
 "metadata": {
  "kernelspec": {
   "display_name": "buzz24",
   "language": "python",
   "name": "python3"
  },
  "language_info": {
   "codemirror_mode": {
    "name": "ipython",
    "version": 3
   },
   "file_extension": ".py",
   "mimetype": "text/x-python",
   "name": "python",
   "nbconvert_exporter": "python",
   "pygments_lexer": "ipython3",
   "version": "3.10.12"
  }
 },
 "nbformat": 4,
 "nbformat_minor": 2
}
