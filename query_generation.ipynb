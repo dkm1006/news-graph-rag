{
 "cells": [
  {
   "cell_type": "markdown",
   "metadata": {},
   "source": [
    "# Enhancing RAG with Neo4j Knowledge Graph\n",
    "\n",
    "\n",
    "Import modules and instantiate connections and models"
   ]
  },
  {
   "cell_type": "code",
   "execution_count": 1,
   "metadata": {},
   "outputs": [
    {
     "name": "stderr",
     "output_type": "stream",
     "text": [
      "/home/djordje/.virtualenvs/buzz24/lib/python3.10/site-packages/tqdm/auto.py:21: TqdmWarning: IProgress not found. Please update jupyter and ipywidgets. See https://ipywidgets.readthedocs.io/en/stable/user_install.html\n",
      "  from .autonotebook import tqdm as notebook_tqdm\n",
      "/home/djordje/.virtualenvs/buzz24/lib/python3.10/site-packages/transformers/convert_slow_tokenizer.py:560: UserWarning: The sentencepiece tokenizer that you are converting to a fast tokenizer uses the byte fallback option which is not implemented in the fast tokenizers. In practice this means that the fast version of the tokenizer can produce unknown tokens whereas the sentencepiece version would have converted these unknown tokens into a sequence of byte tokens matching the original piece of text.\n",
      "  warnings.warn(\n",
      "/home/djordje/.virtualenvs/buzz24/lib/python3.10/site-packages/huggingface_hub/file_download.py:1132: FutureWarning: `resume_download` is deprecated and will be removed in version 1.0.0. Downloads always resume when possible. If you want to force a new download, use `force_download=True`.\n",
      "  warnings.warn(\n"
     ]
    }
   ],
   "source": [
    "import snowflake.connector\n",
    "from langchain_core.output_parsers import StrOutputParser\n",
    "from langchain_core.prompts import ChatPromptTemplate\n",
    "\n",
    "\n",
    "import config\n",
    "from llm import Cortex\n",
    "from ner import EntityFinder\n",
    "from graph import NewsGraphClient\n",
    "\n",
    "\n",
    "snowflake_connection = snowflake.connector.connect(**config.SNOWFLAKE_CONNECTION_PARAMS)\n",
    "model = Cortex(connection=snowflake_connection, model=config.CHAT_MODEL)\n",
    "entity_finder = EntityFinder(config.RELEVANT_LABELS)\n",
    "db = NewsGraphClient()\n",
    "\n",
    "# Define helper functions\n",
    "def map_candidates_to_context(candidates: list[dict[str, str]]) -> str:\n",
    "    context_str = ', '.join(\n",
    "        f\"(:{c['label']} {{ name: '{c['name']}' }}\"\n",
    "        for c in candidates\n",
    "    )\n",
    "    return context_str\n",
    "\n",
    "\n",
    "def map_records_to_context(db_records: list[dict]) -> str:\n",
    "    context_str = ('='*5).join(\n",
    "        '/n'.join(f\"{k}: {v}\" for k, v in record.items())\n",
    "        for record in db_records\n",
    "    )\n",
    "    return context_str\n"
   ]
  },
  {
   "cell_type": "code",
   "execution_count": 2,
   "metadata": {},
   "outputs": [],
   "source": [
    "CYPHER_GENERATION_TEMPLATE = \"\"\"Based on the graph schema below, write a Cypher query that answers the user's question. \n",
    "Use only the node labels, relationships and properties provided in the schema:\n",
    "{schema}\n",
    "Entities in the question map to the following database values:\n",
    "{entities_list}\n",
    "\n",
    "Here are some examples: \n",
    "Example 1: For the question \"List 10 titles of articles mentioning Ursula von der Leyen\" and the entity list \"(:Person {{ name: 'Ursula von der Leyen' }}, (:Person {{ name: 'Ursula v. d. Leyn' }}\" the generated Cypher query should be \n",
    "\"MATCH (a:Article)-[:CONTAINS]->(c:Chunk)-[:MENTIONS]->(o:Person) WHERE o.name IN ['Ursula von der Leyen', 'Ursula v. d. Leyn'] RETURN DISTINCT a.title LIMIT 10\"\n",
    "\n",
    "Example 2: For the question \"How many sources mention the EU commission?\" and the entity list \"(:Organization {{ name: 'EU-Kommission' }}\" the generated Cypher query should be \n",
    "\"MATCH (s:Source)-[:PUBLISHED]->(a:Article)-[:CONTAINS]->(c:Chunk)-[:MENTIONS]->(o:Organization) WHERE o.name IN ['EU-Kommission'] WITH DISTINCT s RETURN count(s)\"\n",
    "\n",
    "Example 3: For the question \"News about France and Macron?\" and the entity list \"(:Location {{ name: 'France' }}, (:Person {{ name: 'Emmanuel Macron' }}\" the generated Cypher query should be \n",
    "\"MATCH (c:Chunk)-[:MENTIONS]->(o:Location) WHERE o.name = 'France' UNION MATCH (c:Chunk)-[:MENTIONS]->(o:Person) WHERE o.name = 'Emmanuel Macron' RETURN c.text LIMIT 10\"\n",
    "\n",
    "Question: {question}\n",
    "Cypher query:\"\"\""
   ]
  },
  {
   "cell_type": "markdown",
   "metadata": {},
   "source": [
    "## Generate a Cypher query"
   ]
  },
  {
   "cell_type": "code",
   "execution_count": 3,
   "metadata": {},
   "outputs": [
    {
     "name": "stdout",
     "output_type": "stream",
     "text": [
      "(:Organization { name: 'VOLT' }, (:Organization { name: 'Volt' }, (:Organization { name: 'Europapartei Volt' }, (:Organization { name: 'Volt-Partei' }, (:Organization { name: 'Volt-Fraktionschef' }, (:Organization { name: 'Volt-Bündnis' }, (:Organization { name: 'Volt-Mitgründer' }, (:Organization { name: 'Partei Volt' }, (:Organization { name: 'Euopapartei Volt' }, (:Organization { name: 'Volt-Spitzenkandidat' }\n"
     ]
    }
   ],
   "source": [
    "question = 'What news are there about Volt?'\n",
    "# Get entities from text\n",
    "mentioned_entities = entity_finder.find(question)\n",
    "# Perform fulltext search\n",
    "candidates = db.lookup_mentioned_entities(mentioned_entities)\n",
    "candidate_context = map_candidates_to_context(candidates)\n",
    "print(candidate_context)"
   ]
  },
  {
   "cell_type": "code",
   "execution_count": 4,
   "metadata": {},
   "outputs": [
    {
     "name": "stderr",
     "output_type": "stream",
     "text": [
      "Complete() is experimental since 1.0.12. Do not use it in production. \n"
     ]
    },
    {
     "name": "stdout",
     "output_type": "stream",
     "text": [
      " MATCH (c:Chunk)-[:MENTIONS]->(o:Organization) WHERE o.name IN ['VOLT', 'Volt', 'Europapartei Volt', 'Volt-Partei', 'Volt-Fraktionschef', 'Volt-Bündnis', 'Volt-Mitgründer', 'Partei Volt', 'Euopapartei Volt', 'Volt-Spitzenkandidat'] RETURN c.text LIMIT 10\n"
     ]
    }
   ],
   "source": [
    "# Define prompt\n",
    "cypher_prompt = ChatPromptTemplate.from_messages([\n",
    "    (\"system\", \"Given an input question, convert it to a Cypher query. No pre-amble.\",),\n",
    "    (\"human\", CYPHER_GENERATION_TEMPLATE),\n",
    "])\n",
    "# Define chain\n",
    "cypher_chain = cypher_prompt | model | StrOutputParser()\n",
    "# Generate Cypher query with found entities\n",
    "generated_query = cypher_chain.invoke({\n",
    "    'question': question,\n",
    "    'entities_list': candidate_context,\n",
    "    'schema': db.graph.schema\n",
    "})\n",
    "print(generated_query)"
   ]
  },
  {
   "cell_type": "markdown",
   "metadata": {},
   "source": [
    "## Perform query and generate an answer"
   ]
  },
  {
   "cell_type": "code",
   "execution_count": 5,
   "metadata": {},
   "outputs": [
    {
     "name": "stdout",
     "output_type": "stream",
     "text": [
      "c.text: Deutschlandweit haben CDU und CSU laut der aktuellen Hochrechnung von Infratest dimap um 23:46 Uhr mit 30,2 Prozent die meisten Stimmen geholt. Dahinter folgt die AfD mit 15,9 Prozent vor der SPD mit 13,9 und Grünen mit 11,9 Prozent. Das Bündnis Sahra Wagenknecht (BSW) holte demnach aus dem Stand 6,0 Prozent, die FDP liegt bei 5,1 Prozent. Die Linke kam auf 2,8 Prozent, die Freien Wähler auf 2,6 Prozent, die Europapartei Volt auf 2,5 Prozent. Die anderen Parteien bewegen sich im einprozentigen Bereich oder darunter.=====c.text: Laut einer Hochrechnung des ZDF können einen ganze Reihe von Kleinparteien mit Sitzen im neuen EU-Parlament rechnen. Demnach bekommen die Freien Wähler und die Europapartei Volt je 3 Sitze, die Satirepartei Partei 2 Sitze und die Tierschutzpartei, die ÖDP und die Familienpartei je einen Sitz.=====c.text: Die Kleinparteien haben bei der Wahl am Sonntag klar zugelegt. Insgesamt stimmten mehr als 20 Prozent aller Wäh­le­r:in­nen für Parteien, die auf jeweils weniger als 5 Prozent kamen. Dafür gibt es zwei Gründe. Zum einen sackten mit der Linken und offenbar auch mit der FDP zwei bisher halbgroße ab. Zudem konnten mit der Europapartei Volt, sowie den Freien Wählern gleich zwei Parteien bisher nicht erreichte Werte erreichen. Beide kommen laut ARD-Hochrechnung auf 2,7 Prozent.=====c.text: Davon profitieren auch kleinere Parteien wie die Linke und die überraschend starke Europapartei Volt. Sie liegen laut ZDF bei 2,9 bzw. 3,0 Prozent.=====c.text: Im Vergleich zur Wahl 2019 konnte die Union damit leicht zulegen, die AfD gewann demnach mehr als 5 Prozentpunkte hinzu, das neue BSW kam sofort auf sechs Prozent. Volt verbesserte sich um 1,8 Prozent. Deutliche Verluste verbuchten die Grünen mit einem Minus von gut 8 Prozentpunkten. Die SPD büßte knapp zwei Prozentpunkte ein, die Linke 2,8 Punkte. Bei der Europawahl gilt in Deutschland keine Sperrklausel.=====c.text: Die FDP kommt in Hessen auf 6,3 Prozent, das Bündnis Sahra Wagenknecht (BSW) auf 4,4 Prozent. Volt schafft es mit 3,3 Prozent vor die Linke (2,5 Prozent) und die Freien Wähler (2,0 Prozent).=====c.text: Das Bündnis Sahra Wagenknecht (BSW), das zum ersten Mal bei der Europawahl angetreten ist, kommt auf 6,0 Prozent. Die FDP liegt in der Hochrechnung bei 5,1 Prozent, die Linke ist mit 2,8 Prozent knapp vor den mit den Freien Wählern (2,6 Prozent) und vor Volt (2,5 Prozent).=====c.text: Demnach liegt die SPD auf Rang vier mit 9,1 Prozent (2019: 9,3 Prozent) vor den Freien Wählern mit 7,1 Prozent (2019: 5,3 Prozent). Die FDP (2019: 3,4 Prozent) folgt mit 4,0 Prozent vor dem BSW mit 3,9 Prozent. Volt erreicht demnach 2,8 Prozent (2019: 0,7 Prozent), die ÖDP erreicht demnach 2,5 Prozent (2019: 3,1 Prozent). Die Wahlbeteiligung lag laut Infratest Dimap bei 64 Prozent und damit deutlich höher als 2019 (60,8).=====c.text: Die Grünen büßen dramatisch ein, sie notieren in den Hochrechnungen etwa acht Prozentpunkte unter dem Ergebnis 2019 bei etwas mehr als 12%, gerade jüngere Wählerschichten kehren der Partei offenbar den Rücken zu. Die FDP verliert leicht und liegt nahe 5%. Damit liegen die Liberalen in etwa gleich auf mit dem erstmals angetretenen, erst sechs Monate alten Bündnis Sahra Wagenknecht, während sich das Ergebnis der Linken nach ersten Prognosen auf 2,6% halbiert. Die AfD legt um vier Prozentpunkte zu und erreicht mit 15% damit in Deutschland Platz 2 bei den Europawahlen. Die Partei Volt liegt bei 2,8 bis 3%.=====c.text: Unerwartet hoch ist bei dieser Wahl mit 14,3 Prozent der Anteil der kleinen Parteien. Dazu gehören die Freien Wähler mit bislang 2,6 Prozent, Volt mit 2,5 Prozent, Die Partei mit 1,9 Prozent oder die Tierschutzpartei mit derzeit 1,4 Prozent.\n"
     ]
    }
   ],
   "source": [
    "\n",
    "# Perform query\n",
    "response = db.query(generated_query)\n",
    "context = map_records_to_context(response)\n",
    "print(context)"
   ]
  },
  {
   "cell_type": "code",
   "execution_count": 6,
   "metadata": {},
   "outputs": [],
   "source": [
    "# Define prompt and chain\n",
    "ANSWER_PROMPT_TEMPLATE = (\n",
    "    \"Answer the question below in appropriate detail, given the following context. \"\n",
    "    # \"Think step by step before providing a detailed answer. \"\n",
    "    \"The context was retrieved from the database by the following query:\\n\\n\"\n",
    "    \"Query: {query}\\n\\n\"\n",
    "    \"Context:\\n{context}\\n\\n\"\n",
    "    \"Question: {question}\\n\\n\"\n",
    "    \"Answer: \"\n",
    ")\n",
    "answer_prompt = ChatPromptTemplate.from_template(ANSWER_PROMPT_TEMPLATE)\n",
    "answer_chain = answer_prompt | model | StrOutputParser()"
   ]
  },
  {
   "cell_type": "code",
   "execution_count": 7,
   "metadata": {},
   "outputs": [
    {
     "name": "stdout",
     "output_type": "stream",
     "text": [
      " In the context provided, there are several pieces of information about Volt, a political party mentioned multiple times. Here is a summary of the news about Volt:\n",
      "\n",
      "1. Volt participated in the European Parliament election and received 2.5% of the votes in Germany.\n",
      "2. According to a ZDF projection, Volt and the Freien Wähler each won 3 seats in the European Parliament.\n",
      "3. Volt improved its performance by 1.8% compared to the previous European Parliament election.\n",
      "4. In the state of Hessen, Volt received 3.3% of the votes, placing it ahead of the Linke (2.5%) and the Freien Wähler (2.0%).\n",
      "5. In the 2019 European Parliament election, Volt received only 0.7% of the votes.\n",
      "6. Volt is mentioned as one of the small parties that contributed to the 14.3% share of small parties in the election.\n",
      "\n",
      "These pieces of information highlight Volt's performance and representation in the European Parliament election and how it compares to previous elections and other political parties.\n"
     ]
    }
   ],
   "source": [
    "# Populate context and generate answer\n",
    "answer = answer_chain.invoke(\n",
    "    {'question': question, 'context': context, 'query': generated_query}\n",
    ")\n",
    "print(answer)"
   ]
  }
 ],
 "metadata": {
  "kernelspec": {
   "display_name": "buzz24",
   "language": "python",
   "name": "python3"
  },
  "language_info": {
   "codemirror_mode": {
    "name": "ipython",
    "version": 3
   },
   "file_extension": ".py",
   "mimetype": "text/x-python",
   "name": "python",
   "nbconvert_exporter": "python",
   "pygments_lexer": "ipython3",
   "version": "3.10.12"
  }
 },
 "nbformat": 4,
 "nbformat_minor": 2
}
